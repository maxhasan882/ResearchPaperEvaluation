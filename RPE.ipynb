{
 "cells": [
  {
   "cell_type": "code",
   "execution_count": 11,
   "metadata": {},
   "outputs": [
    {
     "name": "stderr",
     "output_type": "stream",
     "text": [
      "Using TensorFlow backend.\n"
     ]
    }
   ],
   "source": [
    "import numpy as np\n",
    "import pandas as pd\n",
    "import math\n",
    "import sklearn\n",
    "import sklearn.preprocessing\n",
    "import datetime\n",
    "import os\n",
    "import matplotlib.pyplot as plt\n",
    "import tensorflow as tf\n",
    "import math, time\n",
    "from tensorflow.keras.layers import Dense, Dropout, LSTM\n",
    "import matplotlib.pyplot as plt\n",
    "import seaborn as sns\n",
    "from sklearn.model_selection import train_test_split\n",
    "from sklearn.preprocessing import LabelEncoder\n",
    "from keras.models import Model\n",
    "from keras.layers import LSTM, Activation, Dense, Dropout, Input, Embedding\n",
    "from keras.optimizers import RMSprop\n",
    "from keras.preprocessing.text import Tokenizer\n",
    "from keras.preprocessing import sequence\n",
    "from keras.utils import to_categorical\n",
    "from keras.callbacks import EarlyStopping\n",
    "%matplotlib inline"
   ]
  },
  {
   "cell_type": "code",
   "execution_count": 12,
   "metadata": {},
   "outputs": [
    {
     "data": {
      "text/html": [
       "<div>\n",
       "<style scoped>\n",
       "    .dataframe tbody tr th:only-of-type {\n",
       "        vertical-align: middle;\n",
       "    }\n",
       "\n",
       "    .dataframe tbody tr th {\n",
       "        vertical-align: top;\n",
       "    }\n",
       "\n",
       "    .dataframe thead th {\n",
       "        text-align: right;\n",
       "    }\n",
       "</style>\n",
       "<table border=\"1\" class=\"dataframe\">\n",
       "  <thead>\n",
       "    <tr style=\"text-align: right;\">\n",
       "      <th></th>\n",
       "      <th>paperid</th>\n",
       "      <th>reviewerid</th>\n",
       "      <th>completed</th>\n",
       "      <th>total_sum</th>\n",
       "      <th>pccomments</th>\n",
       "      <th>authorcomments</th>\n",
       "      <th>q1</th>\n",
       "      <th>q2</th>\n",
       "      <th>q3</th>\n",
       "      <th>q4</th>\n",
       "      <th>q5</th>\n",
       "      <th>q6</th>\n",
       "      <th>q7</th>\n",
       "      <th>title</th>\n",
       "      <th>keywords</th>\n",
       "      <th>abstract</th>\n",
       "      <th>accept</th>\n",
       "      <th>type_presentation</th>\n",
       "    </tr>\n",
       "  </thead>\n",
       "  <tbody>\n",
       "    <tr>\n",
       "      <th>0</th>\n",
       "      <td>2</td>\n",
       "      <td>8962</td>\n",
       "      <td>F</td>\n",
       "      <td>NaN</td>\n",
       "      <td>NaN</td>\n",
       "      <td>NaN</td>\n",
       "      <td>NaN</td>\n",
       "      <td>NaN</td>\n",
       "      <td>NaN</td>\n",
       "      <td>NaN</td>\n",
       "      <td>NaN</td>\n",
       "      <td>NaN</td>\n",
       "      <td>NaN</td>\n",
       "      <td>Demo Paper</td>\n",
       "      <td>Testing</td>\n",
       "      <td>Will be updated soon!</td>\n",
       "      <td>Reject</td>\n",
       "      <td>NaN</td>\n",
       "    </tr>\n",
       "    <tr>\n",
       "      <th>1</th>\n",
       "      <td>6</td>\n",
       "      <td>8178</td>\n",
       "      <td>T</td>\n",
       "      <td>19.0</td>\n",
       "      <td>&lt;p&gt;Overall, the paper has useful information, ...</td>\n",
       "      <td>&lt;p&gt;The subject paper presents a reduced switch...</td>\n",
       "      <td>4.0</td>\n",
       "      <td>3.0</td>\n",
       "      <td>2.0</td>\n",
       "      <td>2.0</td>\n",
       "      <td>3.0</td>\n",
       "      <td>Oral Presentation</td>\n",
       "      <td>5.0</td>\n",
       "      <td>Performance Evaluation of Reduced Switch Seven...</td>\n",
       "      <td>Multilevel inverter; Total Harmonic Distortion...</td>\n",
       "      <td>With the development of inverter topologies, m...</td>\n",
       "      <td>Reject</td>\n",
       "      <td>NaN</td>\n",
       "    </tr>\n",
       "    <tr>\n",
       "      <th>2</th>\n",
       "      <td>6</td>\n",
       "      <td>9227</td>\n",
       "      <td>F</td>\n",
       "      <td>NaN</td>\n",
       "      <td>NaN</td>\n",
       "      <td>NaN</td>\n",
       "      <td>NaN</td>\n",
       "      <td>NaN</td>\n",
       "      <td>NaN</td>\n",
       "      <td>NaN</td>\n",
       "      <td>NaN</td>\n",
       "      <td>NaN</td>\n",
       "      <td>NaN</td>\n",
       "      <td>Performance Evaluation of Reduced Switch Seven...</td>\n",
       "      <td>Multilevel inverter; Total Harmonic Distortion...</td>\n",
       "      <td>With the development of inverter topologies, m...</td>\n",
       "      <td>Reject</td>\n",
       "      <td>NaN</td>\n",
       "    </tr>\n",
       "    <tr>\n",
       "      <th>3</th>\n",
       "      <td>6</td>\n",
       "      <td>9261</td>\n",
       "      <td>T</td>\n",
       "      <td>18.0</td>\n",
       "      <td>0</td>\n",
       "      <td>&lt;p&gt;May be accepted, but need to improve. What ...</td>\n",
       "      <td>2.0</td>\n",
       "      <td>3.0</td>\n",
       "      <td>3.0</td>\n",
       "      <td>2.0</td>\n",
       "      <td>3.0</td>\n",
       "      <td>Poster Presentation</td>\n",
       "      <td>5.0</td>\n",
       "      <td>Performance Evaluation of Reduced Switch Seven...</td>\n",
       "      <td>Multilevel inverter; Total Harmonic Distortion...</td>\n",
       "      <td>With the development of inverter topologies, m...</td>\n",
       "      <td>Reject</td>\n",
       "      <td>NaN</td>\n",
       "    </tr>\n",
       "    <tr>\n",
       "      <th>4</th>\n",
       "      <td>6</td>\n",
       "      <td>9390</td>\n",
       "      <td>F</td>\n",
       "      <td>NaN</td>\n",
       "      <td>NaN</td>\n",
       "      <td>NaN</td>\n",
       "      <td>NaN</td>\n",
       "      <td>NaN</td>\n",
       "      <td>NaN</td>\n",
       "      <td>NaN</td>\n",
       "      <td>NaN</td>\n",
       "      <td>NaN</td>\n",
       "      <td>NaN</td>\n",
       "      <td>Performance Evaluation of Reduced Switch Seven...</td>\n",
       "      <td>Multilevel inverter; Total Harmonic Distortion...</td>\n",
       "      <td>With the development of inverter topologies, m...</td>\n",
       "      <td>Reject</td>\n",
       "      <td>NaN</td>\n",
       "    </tr>\n",
       "  </tbody>\n",
       "</table>\n",
       "</div>"
      ],
      "text/plain": [
       "   paperid  reviewerid completed  total_sum  \\\n",
       "0        2        8962         F        NaN   \n",
       "1        6        8178         T       19.0   \n",
       "2        6        9227         F        NaN   \n",
       "3        6        9261         T       18.0   \n",
       "4        6        9390         F        NaN   \n",
       "\n",
       "                                          pccomments  \\\n",
       "0                                                NaN   \n",
       "1  <p>Overall, the paper has useful information, ...   \n",
       "2                                                NaN   \n",
       "3                                                  0   \n",
       "4                                                NaN   \n",
       "\n",
       "                                      authorcomments   q1   q2   q3   q4   q5  \\\n",
       "0                                                NaN  NaN  NaN  NaN  NaN  NaN   \n",
       "1  <p>The subject paper presents a reduced switch...  4.0  3.0  2.0  2.0  3.0   \n",
       "2                                                NaN  NaN  NaN  NaN  NaN  NaN   \n",
       "3  <p>May be accepted, but need to improve. What ...  2.0  3.0  3.0  2.0  3.0   \n",
       "4                                                NaN  NaN  NaN  NaN  NaN  NaN   \n",
       "\n",
       "                    q6   q7  \\\n",
       "0                  NaN  NaN   \n",
       "1    Oral Presentation  5.0   \n",
       "2                  NaN  NaN   \n",
       "3  Poster Presentation  5.0   \n",
       "4                  NaN  NaN   \n",
       "\n",
       "                                               title  \\\n",
       "0                                         Demo Paper   \n",
       "1  Performance Evaluation of Reduced Switch Seven...   \n",
       "2  Performance Evaluation of Reduced Switch Seven...   \n",
       "3  Performance Evaluation of Reduced Switch Seven...   \n",
       "4  Performance Evaluation of Reduced Switch Seven...   \n",
       "\n",
       "                                            keywords  \\\n",
       "0                                            Testing   \n",
       "1  Multilevel inverter; Total Harmonic Distortion...   \n",
       "2  Multilevel inverter; Total Harmonic Distortion...   \n",
       "3  Multilevel inverter; Total Harmonic Distortion...   \n",
       "4  Multilevel inverter; Total Harmonic Distortion...   \n",
       "\n",
       "                                            abstract  accept type_presentation  \n",
       "0                             Will be updated soon!   Reject               NaN  \n",
       "1  With the development of inverter topologies, m...  Reject               NaN  \n",
       "2  With the development of inverter topologies, m...  Reject               NaN  \n",
       "3  With the development of inverter topologies, m...  Reject               NaN  \n",
       "4  With the development of inverter topologies, m...  Reject               NaN  "
      ]
     },
     "execution_count": 12,
     "metadata": {},
     "output_type": "execute_result"
    }
   ],
   "source": [
    "data = pd.read_csv('data.csv',delimiter=',',encoding='latin-1')\n",
    "data.head()"
   ]
  },
  {
   "cell_type": "code",
   "execution_count": 13,
   "metadata": {},
   "outputs": [],
   "source": [
    "dataset = data[['reviewerid','authorcomments', 'total_sum', 'title', 'keywords', 'abstract', 'accept']]"
   ]
  },
  {
   "cell_type": "code",
   "execution_count": 14,
   "metadata": {},
   "outputs": [
    {
     "data": {
      "text/html": [
       "<div>\n",
       "<style scoped>\n",
       "    .dataframe tbody tr th:only-of-type {\n",
       "        vertical-align: middle;\n",
       "    }\n",
       "\n",
       "    .dataframe tbody tr th {\n",
       "        vertical-align: top;\n",
       "    }\n",
       "\n",
       "    .dataframe thead th {\n",
       "        text-align: right;\n",
       "    }\n",
       "</style>\n",
       "<table border=\"1\" class=\"dataframe\">\n",
       "  <thead>\n",
       "    <tr style=\"text-align: right;\">\n",
       "      <th></th>\n",
       "      <th>reviewerid</th>\n",
       "      <th>authorcomments</th>\n",
       "      <th>total_sum</th>\n",
       "      <th>title</th>\n",
       "      <th>keywords</th>\n",
       "      <th>abstract</th>\n",
       "      <th>accept</th>\n",
       "    </tr>\n",
       "  </thead>\n",
       "  <tbody>\n",
       "    <tr>\n",
       "      <th>0</th>\n",
       "      <td>8962</td>\n",
       "      <td>NaN</td>\n",
       "      <td>NaN</td>\n",
       "      <td>Demo Paper</td>\n",
       "      <td>Testing</td>\n",
       "      <td>Will be updated soon!</td>\n",
       "      <td>Reject</td>\n",
       "    </tr>\n",
       "    <tr>\n",
       "      <th>1</th>\n",
       "      <td>8178</td>\n",
       "      <td>&lt;p&gt;The subject paper presents a reduced switch...</td>\n",
       "      <td>19.0</td>\n",
       "      <td>Performance Evaluation of Reduced Switch Seven...</td>\n",
       "      <td>Multilevel inverter; Total Harmonic Distortion...</td>\n",
       "      <td>With the development of inverter topologies, m...</td>\n",
       "      <td>Reject</td>\n",
       "    </tr>\n",
       "    <tr>\n",
       "      <th>2</th>\n",
       "      <td>9227</td>\n",
       "      <td>NaN</td>\n",
       "      <td>NaN</td>\n",
       "      <td>Performance Evaluation of Reduced Switch Seven...</td>\n",
       "      <td>Multilevel inverter; Total Harmonic Distortion...</td>\n",
       "      <td>With the development of inverter topologies, m...</td>\n",
       "      <td>Reject</td>\n",
       "    </tr>\n",
       "  </tbody>\n",
       "</table>\n",
       "</div>"
      ],
      "text/plain": [
       "   reviewerid                                     authorcomments  total_sum  \\\n",
       "0        8962                                                NaN        NaN   \n",
       "1        8178  <p>The subject paper presents a reduced switch...       19.0   \n",
       "2        9227                                                NaN        NaN   \n",
       "\n",
       "                                               title  \\\n",
       "0                                         Demo Paper   \n",
       "1  Performance Evaluation of Reduced Switch Seven...   \n",
       "2  Performance Evaluation of Reduced Switch Seven...   \n",
       "\n",
       "                                            keywords  \\\n",
       "0                                            Testing   \n",
       "1  Multilevel inverter; Total Harmonic Distortion...   \n",
       "2  Multilevel inverter; Total Harmonic Distortion...   \n",
       "\n",
       "                                            abstract  accept  \n",
       "0                             Will be updated soon!   Reject  \n",
       "1  With the development of inverter topologies, m...  Reject  \n",
       "2  With the development of inverter topologies, m...  Reject  "
      ]
     },
     "execution_count": 14,
     "metadata": {},
     "output_type": "execute_result"
    }
   ],
   "source": [
    "dataset.head(3)"
   ]
  },
  {
   "cell_type": "code",
   "execution_count": 15,
   "metadata": {},
   "outputs": [],
   "source": [
    "df = dataset"
   ]
  },
  {
   "cell_type": "code",
   "execution_count": 16,
   "metadata": {},
   "outputs": [],
   "source": [
    "dataset = dataset.dropna()"
   ]
  },
  {
   "cell_type": "code",
   "execution_count": 17,
   "metadata": {},
   "outputs": [
    {
     "data": {
      "text/html": [
       "<div>\n",
       "<style scoped>\n",
       "    .dataframe tbody tr th:only-of-type {\n",
       "        vertical-align: middle;\n",
       "    }\n",
       "\n",
       "    .dataframe tbody tr th {\n",
       "        vertical-align: top;\n",
       "    }\n",
       "\n",
       "    .dataframe thead th {\n",
       "        text-align: right;\n",
       "    }\n",
       "</style>\n",
       "<table border=\"1\" class=\"dataframe\">\n",
       "  <thead>\n",
       "    <tr style=\"text-align: right;\">\n",
       "      <th></th>\n",
       "      <th>reviewerid</th>\n",
       "      <th>authorcomments</th>\n",
       "      <th>total_sum</th>\n",
       "      <th>title</th>\n",
       "      <th>keywords</th>\n",
       "      <th>abstract</th>\n",
       "      <th>accept</th>\n",
       "    </tr>\n",
       "  </thead>\n",
       "  <tbody>\n",
       "    <tr>\n",
       "      <th>1</th>\n",
       "      <td>8178</td>\n",
       "      <td>&lt;p&gt;The subject paper presents a reduced switch...</td>\n",
       "      <td>19.0</td>\n",
       "      <td>Performance Evaluation of Reduced Switch Seven...</td>\n",
       "      <td>Multilevel inverter; Total Harmonic Distortion...</td>\n",
       "      <td>With the development of inverter topologies, m...</td>\n",
       "      <td>Reject</td>\n",
       "    </tr>\n",
       "    <tr>\n",
       "      <th>3</th>\n",
       "      <td>9261</td>\n",
       "      <td>&lt;p&gt;May be accepted, but need to improve. What ...</td>\n",
       "      <td>18.0</td>\n",
       "      <td>Performance Evaluation of Reduced Switch Seven...</td>\n",
       "      <td>Multilevel inverter; Total Harmonic Distortion...</td>\n",
       "      <td>With the development of inverter topologies, m...</td>\n",
       "      <td>Reject</td>\n",
       "    </tr>\n",
       "    <tr>\n",
       "      <th>7</th>\n",
       "      <td>9027</td>\n",
       "      <td>&lt;p&gt;Please edit the following errors:&lt;br /&gt;&lt;br ...</td>\n",
       "      <td>23.0</td>\n",
       "      <td>GSM Based Low-cost Gas Leakage, Explosion and ...</td>\n",
       "      <td>Arduino UNO, MQ-9, Low-cost, Explosion, Securi...</td>\n",
       "      <td>Gas leakage and gas cylinder explosion is a re...</td>\n",
       "      <td>Accept</td>\n",
       "    </tr>\n",
       "    <tr>\n",
       "      <th>8</th>\n",
       "      <td>9464</td>\n",
       "      <td>&lt;ol&gt;\\r\\n&lt;li&gt;There is no previous work section....</td>\n",
       "      <td>20.0</td>\n",
       "      <td>GSM Based Low-cost Gas Leakage, Explosion and ...</td>\n",
       "      <td>Arduino UNO, MQ-9, Low-cost, Explosion, Securi...</td>\n",
       "      <td>Gas leakage and gas cylinder explosion is a re...</td>\n",
       "      <td>Accept</td>\n",
       "    </tr>\n",
       "    <tr>\n",
       "      <th>9</th>\n",
       "      <td>8967</td>\n",
       "      <td>&lt;p&gt;The paper present multi-view 3D object is r...</td>\n",
       "      <td>23.0</td>\n",
       "      <td>Multi-View 3D Object Retrieval using Autoencod...</td>\n",
       "      <td>Convolutional Neural Network, Deep Embedding N...</td>\n",
       "      <td>Due to the rapid development of 3D object, the...</td>\n",
       "      <td>Accept</td>\n",
       "    </tr>\n",
       "  </tbody>\n",
       "</table>\n",
       "</div>"
      ],
      "text/plain": [
       "   reviewerid                                     authorcomments  total_sum  \\\n",
       "1        8178  <p>The subject paper presents a reduced switch...       19.0   \n",
       "3        9261  <p>May be accepted, but need to improve. What ...       18.0   \n",
       "7        9027  <p>Please edit the following errors:<br /><br ...       23.0   \n",
       "8        9464  <ol>\\r\\n<li>There is no previous work section....       20.0   \n",
       "9        8967  <p>The paper present multi-view 3D object is r...       23.0   \n",
       "\n",
       "                                               title  \\\n",
       "1  Performance Evaluation of Reduced Switch Seven...   \n",
       "3  Performance Evaluation of Reduced Switch Seven...   \n",
       "7  GSM Based Low-cost Gas Leakage, Explosion and ...   \n",
       "8  GSM Based Low-cost Gas Leakage, Explosion and ...   \n",
       "9  Multi-View 3D Object Retrieval using Autoencod...   \n",
       "\n",
       "                                            keywords  \\\n",
       "1  Multilevel inverter; Total Harmonic Distortion...   \n",
       "3  Multilevel inverter; Total Harmonic Distortion...   \n",
       "7  Arduino UNO, MQ-9, Low-cost, Explosion, Securi...   \n",
       "8  Arduino UNO, MQ-9, Low-cost, Explosion, Securi...   \n",
       "9  Convolutional Neural Network, Deep Embedding N...   \n",
       "\n",
       "                                            abstract  accept  \n",
       "1  With the development of inverter topologies, m...  Reject  \n",
       "3  With the development of inverter topologies, m...  Reject  \n",
       "7  Gas leakage and gas cylinder explosion is a re...  Accept  \n",
       "8  Gas leakage and gas cylinder explosion is a re...  Accept  \n",
       "9  Due to the rapid development of 3D object, the...  Accept  "
      ]
     },
     "execution_count": 17,
     "metadata": {},
     "output_type": "execute_result"
    }
   ],
   "source": [
    "dataset.head()"
   ]
  },
  {
   "cell_type": "code",
   "execution_count": 18,
   "metadata": {},
   "outputs": [],
   "source": [
    "import warnings\n",
    "warnings.filterwarnings(\"ignore\")"
   ]
  },
  {
   "cell_type": "code",
   "execution_count": 19,
   "metadata": {},
   "outputs": [],
   "source": [
    "dataset['authorcomments'] = dataset['authorcomments'].str.strip()\n",
    "dataset['title'] = dataset['title'].str.strip()\n",
    "dataset['keywords'] = dataset['keywords'].str.strip()\n",
    "dataset['abstract'] = dataset['abstract'].str.strip()\n",
    "dataset['accept'] = dataset['accept'].str.strip()"
   ]
  },
  {
   "cell_type": "code",
   "execution_count": 20,
   "metadata": {},
   "outputs": [],
   "source": [
    "import bs4\n",
    "dataset['authorcomments'] = dataset['authorcomments'].apply(lambda x: bs4.BeautifulSoup(x, 'lxml').get_text())\n",
    "dataset['accept'] = dataset['accept'].map({'Reject':0, 'Accept':1})\n",
    "dataset = dataset.dropna()\n",
    "dataset['accept'] = dataset['accept'].astype(int)"
   ]
  },
  {
   "cell_type": "code",
   "execution_count": 21,
   "metadata": {},
   "outputs": [
    {
     "data": {
      "text/html": [
       "<div>\n",
       "<style scoped>\n",
       "    .dataframe tbody tr th:only-of-type {\n",
       "        vertical-align: middle;\n",
       "    }\n",
       "\n",
       "    .dataframe tbody tr th {\n",
       "        vertical-align: top;\n",
       "    }\n",
       "\n",
       "    .dataframe thead th {\n",
       "        text-align: right;\n",
       "    }\n",
       "</style>\n",
       "<table border=\"1\" class=\"dataframe\">\n",
       "  <thead>\n",
       "    <tr style=\"text-align: right;\">\n",
       "      <th></th>\n",
       "      <th>reviewerid</th>\n",
       "      <th>authorcomments</th>\n",
       "      <th>total_sum</th>\n",
       "      <th>title</th>\n",
       "      <th>keywords</th>\n",
       "      <th>abstract</th>\n",
       "      <th>accept</th>\n",
       "    </tr>\n",
       "  </thead>\n",
       "  <tbody>\n",
       "    <tr>\n",
       "      <th>1</th>\n",
       "      <td>8178</td>\n",
       "      <td>The subject paper presents a reduced switch se...</td>\n",
       "      <td>19.0</td>\n",
       "      <td>Performance Evaluation of Reduced Switch Seven...</td>\n",
       "      <td>Multilevel inverter; Total Harmonic Distortion...</td>\n",
       "      <td>With the development of inverter topologies, m...</td>\n",
       "      <td>0</td>\n",
       "    </tr>\n",
       "    <tr>\n",
       "      <th>3</th>\n",
       "      <td>9261</td>\n",
       "      <td>May be accepted, but need to improve. What are...</td>\n",
       "      <td>18.0</td>\n",
       "      <td>Performance Evaluation of Reduced Switch Seven...</td>\n",
       "      <td>Multilevel inverter; Total Harmonic Distortion...</td>\n",
       "      <td>With the development of inverter topologies, m...</td>\n",
       "      <td>0</td>\n",
       "    </tr>\n",
       "    <tr>\n",
       "      <th>7</th>\n",
       "      <td>9027</td>\n",
       "      <td>Please edit the following errors:# Spelling Er...</td>\n",
       "      <td>23.0</td>\n",
       "      <td>GSM Based Low-cost Gas Leakage, Explosion and ...</td>\n",
       "      <td>Arduino UNO, MQ-9, Low-cost, Explosion, Securi...</td>\n",
       "      <td>Gas leakage and gas cylinder explosion is a re...</td>\n",
       "      <td>1</td>\n",
       "    </tr>\n",
       "  </tbody>\n",
       "</table>\n",
       "</div>"
      ],
      "text/plain": [
       "   reviewerid                                     authorcomments  total_sum  \\\n",
       "1        8178  The subject paper presents a reduced switch se...       19.0   \n",
       "3        9261  May be accepted, but need to improve. What are...       18.0   \n",
       "7        9027  Please edit the following errors:# Spelling Er...       23.0   \n",
       "\n",
       "                                               title  \\\n",
       "1  Performance Evaluation of Reduced Switch Seven...   \n",
       "3  Performance Evaluation of Reduced Switch Seven...   \n",
       "7  GSM Based Low-cost Gas Leakage, Explosion and ...   \n",
       "\n",
       "                                            keywords  \\\n",
       "1  Multilevel inverter; Total Harmonic Distortion...   \n",
       "3  Multilevel inverter; Total Harmonic Distortion...   \n",
       "7  Arduino UNO, MQ-9, Low-cost, Explosion, Securi...   \n",
       "\n",
       "                                            abstract  accept  \n",
       "1  With the development of inverter topologies, m...       0  \n",
       "3  With the development of inverter topologies, m...       0  \n",
       "7  Gas leakage and gas cylinder explosion is a re...       1  "
      ]
     },
     "execution_count": 21,
     "metadata": {},
     "output_type": "execute_result"
    }
   ],
   "source": [
    "dataset.head(3)"
   ]
  },
  {
   "cell_type": "code",
   "execution_count": 22,
   "metadata": {},
   "outputs": [],
   "source": [
    "dataset.to_csv(r'clean.csv')"
   ]
  },
  {
   "cell_type": "code",
   "execution_count": 23,
   "metadata": {},
   "outputs": [],
   "source": [
    "df.drop(['reviewerid', 'total_sum'],axis=1,inplace=True)"
   ]
  },
  {
   "cell_type": "code",
   "execution_count": 24,
   "metadata": {},
   "outputs": [
    {
     "name": "stdout",
     "output_type": "stream",
     "text": [
      "<class 'pandas.core.frame.DataFrame'>\n",
      "RangeIndex: 2734 entries, 0 to 2733\n",
      "Data columns (total 5 columns):\n",
      "authorcomments    1849 non-null object\n",
      "title             2734 non-null object\n",
      "keywords          2734 non-null object\n",
      "abstract          2734 non-null object\n",
      "accept            2734 non-null object\n",
      "dtypes: object(5)\n",
      "memory usage: 106.9+ KB\n"
     ]
    }
   ],
   "source": [
    "df.info()"
   ]
  },
  {
   "cell_type": "code",
   "execution_count": 25,
   "metadata": {},
   "outputs": [
    {
     "data": {
      "text/plain": [
       "<matplotlib.axes._subplots.AxesSubplot at 0x208037743c8>"
      ]
     },
     "execution_count": 25,
     "metadata": {},
     "output_type": "execute_result"
    },
    {
     "data": {
      "image/png": "[encoded data removed]",
      "text/plain": [
       "<Figure size 432x288 with 1 Axes>"
      ]
     },
     "metadata": {
      "needs_background": "light"
     },
     "output_type": "display_data"
    }
   ],
   "source": [
    "sns.countplot(df.accept)"
   ]
  },
  {
   "cell_type": "code",
   "execution_count": 26,
   "metadata": {},
   "outputs": [],
   "source": [
    "df = df[['abstract', 'accept']]"
   ]
  },
  {
   "cell_type": "code",
   "execution_count": 27,
   "metadata": {},
   "outputs": [],
   "source": [
    "df.dropna(inplace=True)"
   ]
  },
  {
   "cell_type": "code",
   "execution_count": 28,
   "metadata": {},
   "outputs": [],
   "source": [
    "df['accept'] = df['accept'].map({'Reject':0, 'Accept':1})\n",
    "df = df.dropna()\n",
    "df['accept'] = df['accept'].astype(int)"
   ]
  },
  {
   "cell_type": "code",
   "execution_count": 29,
   "metadata": {},
   "outputs": [],
   "source": [
    "X = df.abstract\n",
    "#[['authorcomments', 'title', 'keywords', 'abstract']]"
   ]
  },
  {
   "cell_type": "code",
   "execution_count": 30,
   "metadata": {},
   "outputs": [],
   "source": [
    "Y = df.accept"
   ]
  },
  {
   "cell_type": "code",
   "execution_count": 31,
   "metadata": {},
   "outputs": [],
   "source": [
    "x_train, x_test, y_train, y_test = train_test_split(X,Y,test_size=0.15)"
   ]
  },
  {
   "cell_type": "code",
   "execution_count": 32,
   "metadata": {},
   "outputs": [],
   "source": [
    "max_words = 1000\n",
    "max_len = 150\n",
    "tok = Tokenizer(num_words=max_words)\n",
    "tok.fit_on_texts(x_train)\n",
    "sequences = tok.texts_to_sequences(x_train)\n",
    "sequences_matrix = sequence.pad_sequences(sequences,maxlen=max_len)"
   ]
  },
  {
   "cell_type": "code",
   "execution_count": 23,
   "metadata": {},
   "outputs": [],
   "source": [
    "def RNN():\n",
    "    inputs = Input(name='inputs',shape=[max_len])\n",
    "    layer = Embedding(max_words,50,input_length=max_len)(inputs)\n",
    "    layer = LSTM(64)(layer)\n",
    "    layer = Dense(256,name='FC1')(layer)\n",
    "    layer = Activation('relu')(layer)\n",
    "    layer = Dropout(0.5)(layer)\n",
    "    layer = Dense(1,name='out_layer')(layer)\n",
    "    layer = Activation('sigmoid')(layer)\n",
    "    model = Model(inputs=inputs,outputs=layer)\n",
    "    return model"
   ]
  },
  {
   "cell_type": "code",
   "execution_count": 24,
   "metadata": {},
   "outputs": [
    {
     "name": "stdout",
     "output_type": "stream",
     "text": [
      "WARNING:tensorflow:From C:\\ProgramData\\Anaconda3\\lib\\site-packages\\tensorflow\\python\\framework\\op_def_library.py:263: colocate_with (from tensorflow.python.framework.ops) is deprecated and will be removed in a future version.\n",
      "Instructions for updating:\n",
      "Colocations handled automatically by placer.\n",
      "WARNING:tensorflow:From C:\\ProgramData\\Anaconda3\\lib\\site-packages\\keras\\backend\\tensorflow_backend.py:3733: calling dropout (from tensorflow.python.ops.nn_ops) with keep_prob is deprecated and will be removed in a future version.\n",
      "Instructions for updating:\n",
      "Please use `rate` instead of `keep_prob`. Rate should be set to `rate = 1 - keep_prob`.\n",
      "Model: \"model_1\"\n",
      "_________________________________________________________________\n",
      "Layer (type)                 Output Shape              Param #   \n",
      "=================================================================\n",
      "inputs (InputLayer)          (None, 150)               0         \n",
      "_________________________________________________________________\n",
      "embedding_1 (Embedding)      (None, 150, 50)           50000     \n",
      "_________________________________________________________________\n",
      "lstm_1 (LSTM)                (None, 64)                29440     \n",
      "_________________________________________________________________\n",
      "FC1 (Dense)                  (None, 256)               16640     \n",
      "_________________________________________________________________\n",
      "activation_1 (Activation)    (None, 256)               0         \n",
      "_________________________________________________________________\n",
      "dropout_1 (Dropout)          (None, 256)               0         \n",
      "_________________________________________________________________\n",
      "out_layer (Dense)            (None, 1)                 257       \n",
      "_________________________________________________________________\n",
      "activation_2 (Activation)    (None, 1)                 0         \n",
      "=================================================================\n",
      "Total params: 96,337\n",
      "Trainable params: 96,337\n",
      "Non-trainable params: 0\n",
      "_________________________________________________________________\n"
     ]
    }
   ],
   "source": [
    "model = RNN()\n",
    "model.summary()\n",
    "model.compile(loss='binary_crossentropy',optimizer=RMSprop(),metrics=['accuracy'])"
   ]
  },
  {
   "cell_type": "code",
   "execution_count": 25,
   "metadata": {},
   "outputs": [
    {
     "name": "stdout",
     "output_type": "stream",
     "text": [
      "(2727,)\n",
      "(2727,)\n"
     ]
    }
   ],
   "source": [
    "print(X.shape)\n",
    "print(Y.shape)"
   ]
  },
  {
   "cell_type": "code",
   "execution_count": 26,
   "metadata": {},
   "outputs": [
    {
     "name": "stdout",
     "output_type": "stream",
     "text": [
      "WARNING:tensorflow:From C:\\ProgramData\\Anaconda3\\lib\\site-packages\\tensorflow\\python\\ops\\math_ops.py:3066: to_int32 (from tensorflow.python.ops.math_ops) is deprecated and will be removed in a future version.\n",
      "Instructions for updating:\n",
      "Use tf.cast instead.\n",
      "Train on 1853 samples, validate on 464 samples\n",
      "Epoch 1/25\n",
      "1853/1853 [==============================] - 5s 3ms/step - loss: 0.6518 - acc: 0.6341 - val_loss: 0.6788 - val_acc: 0.6767\n",
      "Epoch 2/25\n",
      "1853/1853 [==============================] - 4s 2ms/step - loss: 0.4738 - acc: 0.7982 - val_loss: 0.5028 - val_acc: 0.7629\n",
      "Epoch 3/25\n",
      "1853/1853 [==============================] - 4s 2ms/step - loss: 0.3011 - acc: 0.8807 - val_loss: 0.4024 - val_acc: 0.8211\n",
      "Epoch 4/25\n",
      "1853/1853 [==============================] - 4s 2ms/step - loss: 0.1944 - acc: 0.9336 - val_loss: 0.3121 - val_acc: 0.8793\n",
      "Epoch 5/25\n",
      "1853/1853 [==============================] - 4s 2ms/step - loss: 0.1427 - acc: 0.9530 - val_loss: 0.2984 - val_acc: 0.8858\n",
      "Epoch 6/25\n",
      "1853/1853 [==============================] - 4s 2ms/step - loss: 0.1164 - acc: 0.9649 - val_loss: 0.2357 - val_acc: 0.9267\n",
      "Epoch 7/25\n",
      "1853/1853 [==============================] - 4s 2ms/step - loss: 0.0740 - acc: 0.9822 - val_loss: 0.6161 - val_acc: 0.8728\n",
      "Epoch 8/25\n",
      "1853/1853 [==============================] - 4s 2ms/step - loss: 0.0827 - acc: 0.9736 - val_loss: 0.2253 - val_acc: 0.9461\n",
      "Epoch 9/25\n",
      "1853/1853 [==============================] - 4s 2ms/step - loss: 0.0454 - acc: 0.9870 - val_loss: 0.2947 - val_acc: 0.9397\n",
      "Epoch 10/25\n",
      "1853/1853 [==============================] - 5s 2ms/step - loss: 0.0416 - acc: 0.9892 - val_loss: 0.3355 - val_acc: 0.9461\n",
      "Epoch 11/25\n",
      "1853/1853 [==============================] - 5s 3ms/step - loss: 0.0318 - acc: 0.9914 - val_loss: 0.2745 - val_acc: 0.9418\n",
      "Epoch 12/25\n",
      "1853/1853 [==============================] - 5s 3ms/step - loss: 0.0344 - acc: 0.9908 - val_loss: 0.2747 - val_acc: 0.9569\n",
      "Epoch 13/25\n",
      "1853/1853 [==============================] - 4s 2ms/step - loss: 0.0286 - acc: 0.9924 - val_loss: 0.2082 - val_acc: 0.9591\n",
      "Epoch 14/25\n",
      "1853/1853 [==============================] - 5s 3ms/step - loss: 0.0268 - acc: 0.9941 - val_loss: 0.2711 - val_acc: 0.9526\n",
      "Epoch 15/25\n",
      "1853/1853 [==============================] - 4s 2ms/step - loss: 0.0193 - acc: 0.9951 - val_loss: 0.2167 - val_acc: 0.9634\n",
      "Epoch 16/25\n",
      "1853/1853 [==============================] - 4s 2ms/step - loss: 0.0320 - acc: 0.9924 - val_loss: 0.2113 - val_acc: 0.9634\n",
      "Epoch 17/25\n",
      "1853/1853 [==============================] - 5s 3ms/step - loss: 0.0164 - acc: 0.9941 - val_loss: 0.2213 - val_acc: 0.9634\n",
      "Epoch 18/25\n",
      "1853/1853 [==============================] - 4s 2ms/step - loss: 0.0195 - acc: 0.9946 - val_loss: 0.1910 - val_acc: 0.9655\n",
      "Epoch 19/25\n",
      "1853/1853 [==============================] - 5s 3ms/step - loss: 0.0168 - acc: 0.9957 - val_loss: 0.2509 - val_acc: 0.9591\n",
      "Epoch 20/25\n",
      "1853/1853 [==============================] - 4s 2ms/step - loss: 0.0200 - acc: 0.9924 - val_loss: 0.2176 - val_acc: 0.9591\n",
      "Epoch 21/25\n",
      "1853/1853 [==============================] - 4s 2ms/step - loss: 0.0122 - acc: 0.9951 - val_loss: 0.2143 - val_acc: 0.9634\n",
      "Epoch 22/25\n",
      "1853/1853 [==============================] - 4s 2ms/step - loss: 0.0102 - acc: 0.9957 - val_loss: 0.2467 - val_acc: 0.9634\n",
      "Epoch 23/25\n",
      "1853/1853 [==============================] - 4s 2ms/step - loss: 0.0174 - acc: 0.9924 - val_loss: 0.2388 - val_acc: 0.9591\n",
      "Epoch 24/25\n",
      "1853/1853 [==============================] - 4s 2ms/step - loss: 0.0101 - acc: 0.9957 - val_loss: 0.2291 - val_acc: 0.9634\n",
      "Epoch 25/25\n",
      "1853/1853 [==============================] - 4s 2ms/step - loss: 0.0064 - acc: 0.9968 - val_loss: 0.2966 - val_acc: 0.9677\n"
     ]
    }
   ],
   "source": [
    "history = model.fit(sequences_matrix,y_train,batch_size=50,epochs=25,\n",
    "          validation_split=0.2)"
   ]
  },
  {
   "cell_type": "code",
   "execution_count": 37,
   "metadata": {},
   "outputs": [],
   "source": [
    "test_sequences = tok.texts_to_sequences(x_test)\n",
    "test_sequences_matrix = sequence.pad_sequences(test_sequences,maxlen=max_len)"
   ]
  },
  {
   "cell_type": "code",
   "execution_count": 28,
   "metadata": {},
   "outputs": [
    {
     "name": "stdout",
     "output_type": "stream",
     "text": [
      "410/410 [==============================] - 0s 654us/step\n"
     ]
    }
   ],
   "source": [
    "accr = model.evaluate(test_sequences_matrix,y_test)"
   ]
  },
  {
   "cell_type": "code",
   "execution_count": 29,
   "metadata": {},
   "outputs": [
    {
     "name": "stdout",
     "output_type": "stream",
     "text": [
      "Test set\n",
      "  Loss: 0.269\n",
      "  Accuracy: 0.966\n"
     ]
    }
   ],
   "source": [
    "print('Test set\\n  Loss: {:0.3f}\\n  Accuracy: {:0.3f}'.format(accr[0],accr[1]))"
   ]
  },
  {
   "cell_type": "code",
   "execution_count": 30,
   "metadata": {},
   "outputs": [
    {
     "data": {
      "text/plain": [
       "dict_keys(['val_loss', 'val_acc', 'loss', 'acc'])"
      ]
     },
     "execution_count": 30,
     "metadata": {},
     "output_type": "execute_result"
    }
   ],
   "source": [
    "history_dict = history.history\n",
    "history_dict.keys()"
   ]
  },
  {
   "cell_type": "code",
   "execution_count": 32,
   "metadata": {},
   "outputs": [
    {
     "data": {
      "image/png": "[encoded data removed]",
      "text/plain": [
       "<Figure size 432x288 with 1 Axes>"
      ]
     },
     "metadata": {
      "needs_background": "light"
     },
     "output_type": "display_data"
    }
   ],
   "source": [
    "plt.clf()\n",
    "acc = history.history['acc']\n",
    "val_acc = history.history['val_acc']\n",
    "plt.plot(epochs, acc, 'bo', label='Training acc')\n",
    "plt.plot(epochs, val_acc, 'b', label='Validation acc')\n",
    "plt.title('Training and validation accuracy')\n",
    "plt.xlabel('Epochs')\n",
    "plt.ylabel('Accuracy')\n",
    "plt.legend()\n",
    "plt.show()"
   ]
  },
  {
   "cell_type": "code",
   "execution_count": 8,
   "metadata": {},
   "outputs": [],
   "source": [
    "from sklearn.model_selection import train_test_split\n",
    "from sklearn.ensemble import RandomForestClassifier\n",
    "from sklearn.metrics import accuracy_score\n",
    "from sklearn.metrics import confusion_matrix"
   ]
  },
  {
   "cell_type": "code",
   "execution_count": null,
   "metadata": {},
   "outputs": [],
   "source": [
    "from sklearn.svm import SVC\n",
    "svclassifier = SVC(kernel='linear')\n",
    "svclassifier.fit(sequences_matrix, y_train)"
   ]
  },
  {
   "cell_type": "code",
   "execution_count": null,
   "metadata": {},
   "outputs": [],
   "source": [
    "y_pred = svclassifier.predict(test_sequences_matrix)"
   ]
  },
  {
   "cell_type": "code",
   "execution_count": null,
   "metadata": {},
   "outputs": [],
   "source": [
    "from sklearn.metrics import classification_report, confusion_matrix\n",
    "print(confusion_matrix(y_test,y_pred))"
   ]
  },
  {
   "cell_type": "code",
   "execution_count": null,
   "metadata": {},
   "outputs": [],
   "source": [
    "print(classification_report(y_test,y_pred))"
   ]
  }
 ],
 "metadata": {
  "kernelspec": {
   "display_name": "Python 3",
   "language": "python",
   "name": "python3"
  },
  "language_info": {
   "codemirror_mode": {
    "name": "ipython",
    "version": 3
   },
   "file_extension": ".py",
   "mimetype": "text/x-python",
   "name": "python",
   "nbconvert_exporter": "python",
   "pygments_lexer": "ipython3",
   "version": "3.7.3"
  }
 },
 "nbformat": 4,
 "nbformat_minor": 2
}
